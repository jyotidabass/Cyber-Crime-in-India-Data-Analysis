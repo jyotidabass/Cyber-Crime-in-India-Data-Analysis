{
 "cells": [
  {
   "cell_type": "code",
   "execution_count": 1,
   "id": "16711a18",
   "metadata": {
    "_cell_guid": "b1076dfc-b9ad-4769-8c92-a6c4dae69d19",
    "_uuid": "8f2839f25d086af736a60e9eeb907d3b93b6e0e5",
    "execution": {
     "iopub.execute_input": "2023-08-07T07:46:23.446848Z",
     "iopub.status.busy": "2023-08-07T07:46:23.446144Z",
     "iopub.status.idle": "2023-08-07T07:46:23.471727Z",
     "shell.execute_reply": "2023-08-07T07:46:23.470405Z"
    },
    "papermill": {
     "duration": 0.03403,
     "end_time": "2023-08-07T07:46:23.474720",
     "exception": false,
     "start_time": "2023-08-07T07:46:23.440690",
     "status": "completed"
    },
    "tags": []
   },
   "outputs": [
    {
     "name": "stdout",
     "output_type": "stream",
     "text": [
      "/kaggle/input/cyber-crime-in-india-from-2003/output2014.xlsx\n",
      "/kaggle/input/cyber-crime-in-india-from-2003/output2017.xlsx\n",
      "/kaggle/input/cyber-crime-in-india-from-2003/output2012.xlsx\n",
      "/kaggle/input/cyber-crime-in-india-from-2003/output2006.xlsx\n",
      "/kaggle/input/cyber-crime-in-india-from-2003/output2016.xlsx\n",
      "/kaggle/input/cyber-crime-in-india-from-2003/output2004.xlsx\n",
      "/kaggle/input/cyber-crime-in-india-from-2003/output2019_2020_2021.xlsx\n",
      "/kaggle/input/cyber-crime-in-india-from-2003/output2005.xlsx\n",
      "/kaggle/input/cyber-crime-in-india-from-2003/output2010.xlsx\n",
      "/kaggle/input/cyber-crime-in-india-from-2003/output2018.xlsx\n",
      "/kaggle/input/cyber-crime-in-india-from-2003/output2009.xlsx\n",
      "/kaggle/input/cyber-crime-in-india-from-2003/output2015.xlsx\n",
      "/kaggle/input/cyber-crime-in-india-from-2003/output2008.xlsx\n",
      "/kaggle/input/cyber-crime-in-india-from-2003/output2013.xlsx\n",
      "/kaggle/input/cyber-crime-in-india-from-2003/output2003.xlsx\n",
      "/kaggle/input/cyber-crime-in-india-from-2003/output2011.xlsx\n",
      "/kaggle/input/cyber-crime-in-india-from-2003/output2007.xlsx\n"
     ]
    }
   ],
   "source": [
    "# This Python 3 environment comes with many helpful analytics libraries installed\n",
    "# It is defined by the kaggle/python Docker image: https://github.com/kaggle/docker-python\n",
    "# For example, here's several helpful packages to load\n",
    "\n",
    "import numpy as np # linear algebra\n",
    "import pandas as pd # data processing, CSV file I/O (e.g. pd.read_csv)\n",
    "\n",
    "# Input data files are available in the read-only \"../input/\" directory\n",
    "# For example, running this (by clicking run or pressing Shift+Enter) will list all files under the input directory\n",
    "\n",
    "import os\n",
    "for dirname, _, filenames in os.walk('/kaggle/input'):\n",
    "    for filename in filenames:\n",
    "        print(os.path.join(dirname, filename))\n",
    "\n",
    "# You can write up to 20GB to the current directory (/kaggle/working/) that gets preserved as output when you create a version using \"Save & Run All\" \n",
    "# You can also write temporary files to /kaggle/temp/, but they won't be saved outside of the current session"
   ]
  },
  {
   "cell_type": "markdown",
   "id": "a7981932",
   "metadata": {
    "papermill": {
     "duration": 0.002852,
     "end_time": "2023-08-07T07:46:23.481219",
     "exception": false,
     "start_time": "2023-08-07T07:46:23.478367",
     "status": "completed"
    },
    "tags": []
   },
   "source": [
    "# **Import library and data and visualize the data**"
   ]
  },
  {
   "cell_type": "code",
   "execution_count": 2,
   "id": "7cd67f57",
   "metadata": {
    "execution": {
     "iopub.execute_input": "2023-08-07T07:46:23.490265Z",
     "iopub.status.busy": "2023-08-07T07:46:23.489817Z",
     "iopub.status.idle": "2023-08-07T07:46:26.500879Z",
     "shell.execute_reply": "2023-08-07T07:46:26.499635Z"
    },
    "papermill": {
     "duration": 3.019024,
     "end_time": "2023-08-07T07:46:26.503661",
     "exception": false,
     "start_time": "2023-08-07T07:46:23.484637",
     "status": "completed"
    },
    "tags": []
   },
   "outputs": [
    {
     "name": "stderr",
     "output_type": "stream",
     "text": [
      "/opt/conda/lib/python3.10/site-packages/scipy/__init__.py:146: UserWarning: A NumPy version >=1.16.5 and <1.23.0 is required for this version of SciPy (detected version 1.23.5\n",
      "  warnings.warn(f\"A NumPy version >={np_minversion} and <{np_maxversion}\"\n"
     ]
    },
    {
     "name": "stdout",
     "output_type": "stream",
     "text": [
      "<class 'pandas.core.frame.DataFrame'>\n",
      "RangeIndex: 10 entries, 0 to 9\n",
      "Data columns (total 1 columns):\n",
      " #   Column  Non-Null Count  Dtype \n",
      "---  ------  --------------  ----- \n",
      " 0   PK\u0003\u0004\u0014   8 non-null      object\n",
      "dtypes: object(1)\n",
      "memory usage: 208.0+ bytes\n"
     ]
    },
    {
     "data": {
      "text/plain": [
       "<Axes: >"
      ]
     },
     "execution_count": 2,
     "metadata": {},
     "output_type": "execute_result"
    },
    {
     "data": {
      "image/png": "[encoded data removed]",
      "text/plain": [
       "<Figure size 640x480 with 2 Axes>"
      ]
     },
     "metadata": {},
     "output_type": "display_data"
    }
   ],
   "source": [
    "import pandas as pd\n",
    "import plotly.graph_objects as go\n",
    "import plotly.express as px\n",
    "import warnings\n",
    "import pandas as pd\n",
    "import numpy as np\n",
    "import matplotlib.pyplot as plt\n",
    "import seaborn as sns\n",
    "df = pd.read_csv(\"/kaggle/input/cyber-crime-in-india-from-2003/output2003.xlsx\", encoding=\"latin-1\")\n",
    "df.describe(include=\"all\")\n",
    "df.info()\n",
    "df.shape\n",
    "df.head(5).T\n",
    "df.isnull().sum()\n",
    "\n",
    "warnings.filterwarnings(\"ignore\")\n",
    "sns.heatmap(df.isna())"
   ]
  },
  {
   "cell_type": "code",
   "execution_count": 3,
   "id": "35b58082",
   "metadata": {
    "execution": {
     "iopub.execute_input": "2023-08-07T07:46:26.513145Z",
     "iopub.status.busy": "2023-08-07T07:46:26.512648Z",
     "iopub.status.idle": "2023-08-07T07:46:26.909657Z",
     "shell.execute_reply": "2023-08-07T07:46:26.908335Z"
    },
    "papermill": {
     "duration": 0.404576,
     "end_time": "2023-08-07T07:46:26.912136",
     "exception": false,
     "start_time": "2023-08-07T07:46:26.507560",
     "status": "completed"
    },
    "tags": []
   },
   "outputs": [
    {
     "name": "stdout",
     "output_type": "stream",
     "text": [
      "<class 'pandas.core.frame.DataFrame'>\n",
      "RangeIndex: 11 entries, 0 to 10\n",
      "Data columns (total 1 columns):\n",
      " #   Column  Non-Null Count  Dtype \n",
      "---  ------  --------------  ----- \n",
      " 0   PK\u0003\u0004\u0014   9 non-null      object\n",
      "dtypes: object(1)\n",
      "memory usage: 216.0+ bytes\n"
     ]
    },
    {
     "data": {
      "text/plain": [
       "<Axes: >"
      ]
     },
     "execution_count": 3,
     "metadata": {},
     "output_type": "execute_result"
    },
    {
     "data": {
      "image/png": "[encoded data removed]",
      "text/plain": [
       "<Figure size 640x480 with 2 Axes>"
      ]
     },
     "metadata": {},
     "output_type": "display_data"
    }
   ],
   "source": [
    "import pandas as pd\n",
    "import plotly.graph_objects as go\n",
    "import plotly.express as px\n",
    "import warnings\n",
    "import pandas as pd\n",
    "import numpy as np\n",
    "import matplotlib.pyplot as plt\n",
    "import seaborn as sns\n",
    "df = pd.read_csv(\"/kaggle/input/cyber-crime-in-india-from-2003/output2005.xlsx\", encoding=\"latin-1\")\n",
    "df.describe(include=\"all\")\n",
    "df.info()\n",
    "df.shape\n",
    "df.head(5).T\n",
    "df.isnull().sum()\n",
    "\n",
    "warnings.filterwarnings(\"ignore\")\n",
    "sns.heatmap(df.isna())"
   ]
  },
  {
   "cell_type": "code",
   "execution_count": 4,
   "id": "b95dfe45",
   "metadata": {
    "execution": {
     "iopub.execute_input": "2023-08-07T07:46:26.922903Z",
     "iopub.status.busy": "2023-08-07T07:46:26.922460Z",
     "iopub.status.idle": "2023-08-07T07:46:27.342781Z",
     "shell.execute_reply": "2023-08-07T07:46:27.341135Z"
    },
    "papermill": {
     "duration": 0.430812,
     "end_time": "2023-08-07T07:46:27.347293",
     "exception": false,
     "start_time": "2023-08-07T07:46:26.916481",
     "status": "completed"
    },
    "tags": []
   },
   "outputs": [
    {
     "name": "stdout",
     "output_type": "stream",
     "text": [
      "<class 'pandas.core.frame.DataFrame'>\n",
      "RangeIndex: 12 entries, 0 to 11\n",
      "Data columns (total 1 columns):\n",
      " #   Column  Non-Null Count  Dtype \n",
      "---  ------  --------------  ----- \n",
      " 0   PK\u0003\u0004\u0014   10 non-null     object\n",
      "dtypes: object(1)\n",
      "memory usage: 224.0+ bytes\n"
     ]
    },
    {
     "data": {
      "text/plain": [
       "<Axes: >"
      ]
     },
     "execution_count": 4,
     "metadata": {},
     "output_type": "execute_result"
    },
    {
     "data": {
      "image/png": "[encoded data removed]",
      "text/plain": [
       "<Figure size 640x480 with 2 Axes>"
      ]
     },
     "metadata": {},
     "output_type": "display_data"
    }
   ],
   "source": [
    "import pandas as pd\n",
    "import plotly.graph_objects as go\n",
    "import plotly.express as px\n",
    "import warnings\n",
    "import pandas as pd\n",
    "import numpy as np\n",
    "import matplotlib.pyplot as plt\n",
    "import seaborn as sns\n",
    "df = pd.read_csv(\"/kaggle/input/cyber-crime-in-india-from-2003/output2011.xlsx\", encoding=\"latin-1\")\n",
    "df.describe(include=\"all\")\n",
    "df.info()\n",
    "df.shape\n",
    "df.head(5).T\n",
    "df.isnull().sum()\n",
    "\n",
    "warnings.filterwarnings(\"ignore\")\n",
    "sns.heatmap(df.isna())"
   ]
  }
 ],
 "metadata": {
  "kernelspec": {
   "display_name": "Python 3",
   "language": "python",
   "name": "python3"
  },
  "language_info": {
   "codemirror_mode": {
    "name": "ipython",
    "version": 3
   },
   "file_extension": ".py",
   "mimetype": "text/x-python",
   "name": "python",
   "nbconvert_exporter": "python",
   "pygments_lexer": "ipython3",
   "version": "3.10.12"
  },
  "papermill": {
   "default_parameters": {},
   "duration": 17.772186,
   "end_time": "2023-08-07T07:46:28.478133",
   "environment_variables": {},
   "exception": null,
   "input_path": "__notebook__.ipynb",
   "output_path": "__notebook__.ipynb",
   "parameters": {},
   "start_time": "2023-08-07T07:46:10.705947",
   "version": "2.4.0"
  }
 },
 "nbformat": 4,
 "nbformat_minor": 5
}
